{
 "cells": [
  {
   "cell_type": "code",
   "execution_count": 78,
   "metadata": {},
   "outputs": [],
   "source": [
    "## GLOBAL VARIABLES\n",
    "field_size = 10               # NxN, always square field\n",
    "user_record = [[], []]       # list of lists with the turn record\n",
    "win_line = []                # list of lists, win conditions that are still possible\n",
    "field_pos_label = []         # position label for whole play field\n",
    "available_pos_label = []     # position label for empty spot"
   ]
  },
  {
   "cell_type": "code",
   "execution_count": 79,
   "metadata": {},
   "outputs": [
    {
     "name": "stdout",
     "output_type": "stream",
     "text": [
      "┌ - - - - - - - - - - - - - - - - - - - ┐\n",
      "|   |   |   |   |   |   |   |   |   |   |\n",
      "| - + - + - + - + - + - + - + - + - + - |\n",
      "|   |   |   |   |   |   |   |   |   |   |\n",
      "| - + - + - + - + - + - + - + - + - + - |\n",
      "|   |   |   |   |   |   |   |   |   |   |\n",
      "| - + - + - + - + - + - + - + - + - + - |\n",
      "|   |   |   |   |   |   |   |   |   |   |\n",
      "| - + - + - + - + - + - + - + - + - + - |\n",
      "|   |   |   |   |   |   |   |   |   |   |\n",
      "| - + - + - + - + - + - + - + - + - + - |\n",
      "|   |   |   |   |   |   |   |   |   |   |\n",
      "| - + - + - + - + - + - + - + - + - + - |\n",
      "|   |   |   |   |   |   |   |   |   |   |\n",
      "| - + - + - + - + - + - + - + - + - + - |\n",
      "|   |   |   |   |   |   |   |   |   |   |\n",
      "| - + - + - + - + - + - + - + - + - + - |\n",
      "|   |   |   |   |   |   |   |   |   |   |\n",
      "| - + - + - + - + - + - + - + - + - + - |\n",
      "|   |   |   |   |   |   |   |   |   |   |\n",
      "└ - - - - - - - - - - - - - - - - - - - ┘\n",
      "\n"
     ]
    }
   ],
   "source": [
    "# display function\n",
    "def build_empty_field_v0(field_size):\n",
    "      \"\"\"Generates a grid of the given size\"\"\"\n",
    "      row_up = \"┌ - \" + \"- - \" * (field_size - 2) + \"- - ┐\" + \"\\n\" \\\n",
    "            + \"|   \" + \"|   \" * (field_size - 2) + \"|   |\" + \"\\n\" \\\n",
    "            + \"| - \" + \"+ - \" * (field_size - 2) + \"+ - |\" + \"\\n\" \n",
    "      row_mid = \\\n",
    "            \"|   \" + \"|   \" * (field_size - 2) + \"|   |\" + \"\\n\" \\\n",
    "            + \"| - \" + \"+ - \" * (field_size - 2) + \"+ - |\" + \"\\n\" \n",
    "      row_bot = \\\n",
    "            \"|   \" + \"|   \" * (field_size - 2) + \"|   |\" + \"\\n\" \\\n",
    "            + \"└ - \" + \"- - \" * (field_size - 2) + \"- - ┘\" + \"\\n\" \n",
    "\n",
    "      field = row_up + row_mid*(field_size-2) + row_bot\n",
    "      return field\n",
    "\n",
    "# Demo\n",
    "field = build_empty_field_v0(field_size)        \n",
    "print(field)"
   ]
  },
  {
   "cell_type": "code",
   "execution_count": 80,
   "metadata": {},
   "outputs": [
    {
     "name": "stdout",
     "output_type": "stream",
     "text": [
      "┌ - - - - - - - - - - - - - - - - - - - ┐\n",
      "| 1 | 2 | 3 | 4 | 5 | 6 | 7 | 8 | 9 | 10|\n",
      "| - + - + - + - + - + - + - + - + - + - |\n",
      "| 11| 12| 13| 14| 15| 16| 17| 18| 19| 20|\n",
      "| - + - + - + - + - + - + - + - + - + - |\n",
      "| 21| 22| 23| 24| 25| 26| 27| 28| 29| 30|\n",
      "| - + - + - + - + - + - + - + - + - + - |\n",
      "| 31| 32| 33| 34| 35| 36| 37| 38| 39| 40|\n",
      "| - + - + - + - + - + - + - + - + - + - |\n",
      "| 41| 42| 43| 44| 45| 46| 47| 48| 49| 50|\n",
      "| - + - + - + - + - + - + - + - + - + - |\n",
      "| 51| 52| 53| 54| 55| 56| 57| 58| 59| 60|\n",
      "| - + - + - + - + - + - + - + - + - + - |\n",
      "| 61| 62| 63| 64| 65| 66| 67| 68| 69| 70|\n",
      "| - + - + - + - + - + - + - + - + - + - |\n",
      "| 71| 72| 73| 74| 75| 76| 77| 78| 79| 80|\n",
      "| - + - + - + - + - + - + - + - + - + - |\n",
      "| 81| 82| 83| 84| 85| 86| 87| 88| 89| 90|\n",
      "| - + - + - + - + - + - + - + - + - + - |\n",
      "| 91| 92| 93| 94| 95| 96| 97| 98| 99|100|\n",
      "└ - - - - - - - - - - - - - - - - - - - ┘\n"
     ]
    }
   ],
   "source": [
    "def build_empty_field(field_size):\n",
    "    row_up = \"┌ - \" + \"- - \" * (field_size - 2) + \"- - ┐\" + \"\\n\" \n",
    "    row_inter = \"| - \" + \"+ - \" * (field_size - 2) + \"+ - |\" + \"\\n\"\n",
    "    row_bott = \"└ - \" + \"- - \" * (field_size - 2) + \"- - ┘\"\n",
    "    numbers = [str(n).center(3, ' ') for n in range(1, field_size**2+1)]\n",
    "    numbers = [numbers[i*field_size:(i+1)*field_size] for i in range(field_size)]\n",
    "    rows_w_numbers = [['|'+number for number in row] for row in numbers]\n",
    "    rows_w_numbers = [''.join(row)+'|\\n' for row in rows_w_numbers] \n",
    "\n",
    "    field = row_up \n",
    "    for row_w_numbers in rows_w_numbers:\n",
    "        field += row_w_numbers\n",
    "        field += row_inter\n",
    "    field = field.removesuffix(row_inter)\n",
    "    field += row_bott\n",
    "    return field\n",
    "\n",
    "# Demo\n",
    "field = build_empty_field(field_size)\n",
    "print(field)"
   ]
  },
  {
   "cell_type": "code",
   "execution_count": 64,
   "metadata": {},
   "outputs": [
    {
     "data": {
      "text/plain": [
       "['| 1 | 2 | 3 |', '| 4 | 5 | 6 |', '| 7 | 8 | 9 |']"
      ]
     },
     "execution_count": 64,
     "metadata": {},
     "output_type": "execute_result"
    }
   ],
   "source": [
    "numbers = [str(n).center(3, ' ') for n in range(1, field_size**2+1)]\n",
    "numbers = [numbers[i*field_size:(i+1)*field_size] for i in range(field_size)]\n",
    "rows_w_numbers = [['|'+number for number in row] for row in numbers]\n",
    "rows_w_numbers = [''.join(row)+'|' for row in rows_w_numbers] \n",
    "\n",
    "rows_w_numbers"
   ]
  },
  {
   "cell_type": "code",
   "execution_count": 56,
   "metadata": {},
   "outputs": [
    {
     "data": {
      "text/plain": [
       "[[[' ', '1', ' '], [' ', '2', ' '], [' ', '3', ' ']],\n",
       " [[' ', '4', ' '], [' ', '5', ' '], [' ', '6', ' ']],\n",
       " [[' ', '7', ' '], [' ', '8', ' '], [' ', '9', ' ']]]"
      ]
     },
     "execution_count": 56,
     "metadata": {},
     "output_type": "execute_result"
    }
   ],
   "source": [
    "_ = [list(item) for item in list(field.splitlines())]\n",
    "numbers = [list(str(n).center(3, ' ')) for n in range(1, field_size**2+1)]\n",
    "numbers = [numbers[i*field_size:(i+1)*field_size] for i in range(field_size)]\n",
    "numbers"
   ]
  },
  {
   "cell_type": "code",
   "execution_count": 48,
   "metadata": {},
   "outputs": [
    {
     "data": {
      "text/plain": [
       "'|324|   |   |   |   |   |'"
      ]
     },
     "execution_count": 48,
     "metadata": {},
     "output_type": "execute_result"
    }
   ],
   "source": [
    "#''.join(list(field.splitlines()[1]))\n",
    "_ = [list(item) for item in list(field.splitlines())]\n",
    "numbers = [list(str(n).center(3, ' ')) for n in range(1, field_size**2+1)]\n",
    "numbers = [numbers[i*field_size:(i+1)*field_size] for i in range(field_size)]\n",
    "position_on_screen = # 1:4, 5:\n",
    "for row_center, number_row in zip(_[1:field_size:2], numbers):\n",
    "    for number in numbers:\n",
    "        number = str(number).center(3, ' ')\n",
    "    \n",
    "        \n",
    "\n",
    "# _[1][1:4] = '324'\n",
    "# ''.join(_[1])"
   ]
  },
  {
   "cell_type": "code",
   "execution_count": 54,
   "metadata": {},
   "outputs": [
    {
     "data": {
      "text/plain": [
       "' 56'"
      ]
     },
     "execution_count": 54,
     "metadata": {},
     "output_type": "execute_result"
    }
   ],
   "source": []
  },
  {
   "cell_type": "code",
   "execution_count": null,
   "metadata": {},
   "outputs": [],
   "source": [
    "def render_field(field, ):\n",
    "    \"\"\"Populates the field with already placed symbols\n",
    "    (Xs and Os) from the turn record\"\"\"\n",
    "    pass"
   ]
  },
  {
   "cell_type": "code",
   "execution_count": 14,
   "metadata": {},
   "outputs": [],
   "source": [
    "def init_field(field_size_n, user_history=None):\n",
    "    \"\"\" Initialize the play field\n",
    "    Args:\n",
    "        field_size_n (int): a general play field nxn\n",
    "        user_history (list): list of two user position history:\n",
    "              [[usr1_pos1, usr2_pos2, usr1_pos3], [usr2_pos1, usr2_pos2]]].\n",
    "              Defaults to None.\n",
    "    \"\"\"\n",
    "    field_size = field_size_n\n",
    "    field_pos_label = list(range(1, 1+field_size**2))\n",
    "    if user_history == None:\n",
    "        user_record = [[], []]\n",
    "        available_pos_label = field_pos_label\n",
    "    else:\n",
    "        user_record = user_history\n",
    "        ## check consistence\n",
    "        if len(user_record[0]) != len(set(user_record[0])):\n",
    "               print(\"warning: duplicate elements within user_history[0]\")\n",
    "               exit(0)\n",
    "        if len(user_record[1]) != len(set(user_record[1])):\n",
    "               print(\"warning: duplicate elements within user_history[1]\")\n",
    "               exit(0)\n",
    "        if user_record[0] not in field_pos_label:\n",
    "               print(\"warning: label overflow in user_history[0]\")\n",
    "               exit(0)\n",
    "        if user_record[1] not in field_pos_label:\n",
    "               print(\"warning: label overflow in user_history[1]\")\n",
    "               exit(0)\n",
    "        available_pos_label = list(set(field_pos_label)\n",
    "                                   - set(user_record[0])\n",
    "                                   - set(user_record[1]))\n",
    "    win_line = []\n",
    "    tmp = list(range(field_size))\n",
    "    for i in range(field_size):\n",
    "        win_line.append([1+x+i*field_size for x in tmp])\n",
    "        win_line.append([1+x*field_size+i for x in tmp])\n",
    "    win_line.append([1+x*field_size+x for x in tmp])\n",
    "    win_line.append([(1+x)*field_size-x for x in tmp])\n",
    "    return user_record, win_line, available_pos_label"
   ]
  },
  {
   "cell_type": "code",
   "execution_count": 15,
   "metadata": {},
   "outputs": [],
   "source": [
    "## global\n",
    "if len(user_record[0]) == len(user_record[1]):\n",
    "    whose_turn_is_it = 1\n",
    "else:\n",
    "    whose_turn_is_it = 0\n",
    "\n",
    "def validate(available_pos_label):\n",
    "    # avaiable_pos_label = set(field_pos_label) - set(user_record[0]) \\\n",
    "    #                     - set(user_record[1])\n",
    "    if len(available_pos_label) == 0:\n",
    "          print('warning: no available position to continue game!')\n",
    "          print('game over!')\n",
    "    turn_valid = False\n",
    "    while not turn_valid:\n",
    "        if whose_turn_is_it:\n",
    "        # means it is the first player's turn\n",
    "            turn = int(input(\"Player-1 (X): Please choose one available position label\"))\n",
    "            if turn in available_pos_label:\n",
    "                 turn_valid = True\n",
    "                 user_record[0].append(turn)\n",
    "        else:\n",
    "        # means it is the second player's turn\n",
    "            turn = int(input(\"Player-2 (O): Please choose one available position label\"))\n",
    "            if turn in available_pos_label:\n",
    "                 turn_valid = True\n",
    "                 user_record[1].append(turn)"
   ]
  },
  {
   "cell_type": "code",
   "execution_count": 16,
   "metadata": {},
   "outputs": [],
   "source": [
    "validate([1,5,9])"
   ]
  },
  {
   "cell_type": "code",
   "execution_count": 17,
   "metadata": {},
   "outputs": [
    {
     "data": {
      "text/plain": [
       "[[9], []]"
      ]
     },
     "execution_count": 17,
     "metadata": {},
     "output_type": "execute_result"
    }
   ],
   "source": [
    "user_record"
   ]
  },
  {
   "cell_type": "code",
   "execution_count": 4,
   "metadata": {},
   "outputs": [
    {
     "data": {
      "text/plain": [
       "([[], []],\n",
       " [[1, 2, 3, 4],\n",
       "  [1, 5, 9, 13],\n",
       "  [5, 6, 7, 8],\n",
       "  [2, 6, 10, 14],\n",
       "  [9, 10, 11, 12],\n",
       "  [3, 7, 11, 15],\n",
       "  [13, 14, 15, 16],\n",
       "  [4, 8, 12, 16],\n",
       "  [1, 6, 11, 16],\n",
       "  [4, 7, 10, 13]],\n",
       " [1, 2, 3, 4, 5, 6, 7, 8, 9, 10, 11, 12, 13, 14, 15, 16])"
      ]
     },
     "execution_count": 4,
     "metadata": {},
     "output_type": "execute_result"
    }
   ],
   "source": [
    "init_field(4, None)"
   ]
  },
  {
   "cell_type": "markdown",
   "metadata": {},
   "source": []
  }
 ],
 "metadata": {
  "kernelspec": {
   "display_name": ".venv",
   "language": "python",
   "name": "python3"
  },
  "language_info": {
   "codemirror_mode": {
    "name": "ipython",
    "version": 3
   },
   "file_extension": ".py",
   "mimetype": "text/x-python",
   "name": "python",
   "nbconvert_exporter": "python",
   "pygments_lexer": "ipython3",
   "version": "3.11.3"
  }
 },
 "nbformat": 4,
 "nbformat_minor": 2
}
