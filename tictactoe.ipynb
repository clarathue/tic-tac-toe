{
 "cells": [
  {
   "cell_type": "code",
   "execution_count": 27,
   "metadata": {},
   "outputs": [],
   "source": [
    "field_size = 5 # 5x5, always square field\n",
    "user_record = [] # list of lists for tracking the turns\n",
    "win_line = [] # list of lists, win conditions that are still possible"
   ]
  },
  {
   "cell_type": "code",
   "execution_count": 57,
   "metadata": {},
   "outputs": [
    {
     "name": "stdout",
     "output_type": "stream",
     "text": [
      "┌ - - - - - - - - - - - ┐\n",
      "|   |   |   |   |   |   |\n",
      "| - + - + - + - + - + - |\n",
      "|   |   |   |   |   |   |\n",
      "| - + - + - + - + - + - |\n",
      "|   |   |   |   |   |   |\n",
      "| - + - + - + - + - + - |\n",
      "|   |   |   |   |   |   |\n",
      "| - + - + - + - + - + - |\n",
      "|   |   |   |   |   |   |\n",
      "| - + - + - + - + - + - |\n",
      "|   |   |   |   |   |   |\n",
      "└ - - - - - - - - - - - ┘\n",
      "\n"
     ]
    }
   ],
   "source": [
    "# display function\n",
    "def build_empty_field(field_size):\n",
    "      row_up = \"┌ - \" + \"- - \" * (field_size - 2) + \"- - ┐\" + \"\\n\" \\\n",
    "            + \"|   \" + \"|   \" * (field_size - 2) + \"|   |\" + \"\\n\" \\\n",
    "            + \"| - \" + \"+ - \" * (field_size - 2) + \"+ - |\" + \"\\n\" \n",
    "      row_mid = \\\n",
    "            \"|   \" + \"|   \" * (field_size - 2) + \"|   |\" + \"\\n\" \\\n",
    "            + \"| - \" + \"+ - \" * (field_size - 2) + \"+ - |\" + \"\\n\" \n",
    "      row_bot = \\\n",
    "            \"|   \" + \"|   \" * (field_size - 2) + \"|   |\" + \"\\n\" \\\n",
    "            + \"└ - \" + \"- - \" * (field_size - 2) + \"- - ┘\" + \"\\n\" \n",
    "\n",
    "      field = row_up + row_mid*(field_size-2) + row_bot\n",
    "      return field\n",
    "\n",
    "field = build_empty_field(6)        \n",
    "print(field)\n",
    "# print(middle_row)"
   ]
  },
  {
   "cell_type": "code",
   "execution_count": 2,
   "metadata": {},
   "outputs": [],
   "source": [
    "## GLOBAL VARIABLES\n",
    "field_size = 3\n",
    "field_pos_label = []         # position label for whole play field\n",
    "available_pos_label = []     # position label for empty spot\n",
    "user_record = [[], []]       # record input for user1/2\n",
    "win_line = []                # lines on play field for winning\n",
    "def init_field(field_size_n, user_history=None):\n",
    "    \"\"\" Initialize the play field\n",
    "    Args:\n",
    "        field_size_n (int): a general play field nxn\n",
    "        user_history (list): list of two user position history:\n",
    "              [[usr1_pos1, usr2_pos2, usr1_pos3], [usr2_pos1, usr2_pos2]]].\n",
    "              Defaults to None.\n",
    "    \"\"\"\n",
    "    field_size = field_size_n\n",
    "    field_pos_label = list(range(1, 1+field_size**2))\n",
    "    if user_history == None:\n",
    "        user_record = [[], []]\n",
    "        available_pos_label = field_pos_label\n",
    "    else:\n",
    "        user_record = user_history\n",
    "        ## check consistence\n",
    "        if len(user_record[0]) != len(set(user_record[0])):\n",
    "               print(\"warning: duplicate elements within user_history[0]\")\n",
    "               exit(0)\n",
    "        if len(user_record[1]) != len(set(user_record[1])):\n",
    "               print(\"warning: duplicate elements within user_history[1]\")\n",
    "               exit(0)\n",
    "        if user_record[0] not in field_pos_label:\n",
    "               print(\"warning: label overflow in user_history[0]\")\n",
    "               exit(0)\n",
    "        if user_record[1] not in field_pos_label:\n",
    "               print(\"warning: label overflow in user_history[1]\")\n",
    "               exit(0)\n",
    "        available_pos_label = list(set(field_pos_label)\n",
    "                                   - set(user_record[0])\n",
    "                                   - set(user_record[1]))\n",
    "    win_line = []\n",
    "    tmp = list(range(field_size))\n",
    "    for i in range(field_size):\n",
    "        win_line.append([1+x+i*field_size for x in tmp])\n",
    "        win_line.append([1+x*field_size+i for x in tmp])\n",
    "    win_line.append([1+x*field_size+x for x in tmp])\n",
    "    win_line.append([(1+x)*field_size-x for x in tmp])\n",
    "    return user_record, win_line, available_pos_label"
   ]
  },
  {
   "cell_type": "code",
   "execution_count": 5,
   "metadata": {},
   "outputs": [],
   "source": [
    "def validate(available_pos_label):\n",
    "    avaiable_pos_label = set(field_pos_label) - set(user_record[0]) \\\n",
    "                         - set(user_record[1])\n",
    "    if len(avaiable_pos_label) == 0:\n",
    "          print('warning: no available position to continue game!')\n",
    "          print('game over!')\n",
    "          exit(0)\n",
    "    turn_valid = False\n",
    "    while not turn_valid:\n",
    "        if len(user_record[0]) == len(user_record[1]):\n",
    "        # means it is the first player's turn\n",
    "            turn = int(input(\"Player-1 (X): Please choose one available position label\"))\n",
    "            if turn not in available_pos_label:\n",
    "                 turn_valid = True\n",
    "\n",
    "                 user_record[0].append(turn)\n",
    "        # means it is the second player's turn\n",
    "            turn = int(input(\"Player-2 (O): Please choose one available position label\"))\n",
    "            if turn not in available_pos_label:\n",
    "                 turn_valid = True\n",
    "                 user_record[0].append(turn)\n",
    "\n",
    "    pass"
   ]
  },
  {
   "cell_type": "code",
   "execution_count": 4,
   "metadata": {},
   "outputs": [
    {
     "data": {
      "text/plain": [
       "([[], []],\n",
       " [[1, 2, 3, 4],\n",
       "  [1, 5, 9, 13],\n",
       "  [5, 6, 7, 8],\n",
       "  [2, 6, 10, 14],\n",
       "  [9, 10, 11, 12],\n",
       "  [3, 7, 11, 15],\n",
       "  [13, 14, 15, 16],\n",
       "  [4, 8, 12, 16],\n",
       "  [1, 6, 11, 16],\n",
       "  [4, 7, 10, 13]],\n",
       " [1, 2, 3, 4, 5, 6, 7, 8, 9, 10, 11, 12, 13, 14, 15, 16])"
      ]
     },
     "execution_count": 4,
     "metadata": {},
     "output_type": "execute_result"
    }
   ],
   "source": [
    "init_field(4, None)"
   ]
  },
  {
   "cell_type": "markdown",
   "metadata": {},
   "source": []
  }
 ],
 "metadata": {
  "kernelspec": {
   "display_name": ".venv",
   "language": "python",
   "name": "python3"
  },
  "language_info": {
   "codemirror_mode": {
    "name": "ipython",
    "version": 3
   },
   "file_extension": ".py",
   "mimetype": "text/x-python",
   "name": "python",
   "nbconvert_exporter": "python",
   "pygments_lexer": "ipython3",
   "version": "3.11.3"
  }
 },
 "nbformat": 4,
 "nbformat_minor": 2
}
