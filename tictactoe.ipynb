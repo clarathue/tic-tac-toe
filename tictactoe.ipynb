{
 "cells": [
  {
   "cell_type": "code",
   "execution_count": 85,
   "metadata": {},
   "outputs": [],
   "source": [
    "## GLOBAL VARIABLES\n",
    "field_size = 5               # NxN, always square field\n",
    "user_record = [[], []]       # list of lists with the turn record\n",
    "win_line = []                # list of lists, win conditions that are still possible\n",
    "field_pos_label = []         # position label for whole play field\n",
    "available_pos_label = []     # position label for empty spot"
   ]
  },
  {
   "cell_type": "code",
   "execution_count": 86,
   "metadata": {},
   "outputs": [
    {
     "name": "stdout",
     "output_type": "stream",
     "text": [
      "╔═══════════════════╗\n",
      "║ 1 ║ 2 ║ 3 ║ 4 ║ 5 ║\n",
      "╠═══╬═══╬═══╬═══╬═══╣\n",
      "║ 6 ║ 7 ║ 8 ║ 9 ║ 10║\n",
      "╠═══╬═══╬═══╬═══╬═══╣\n",
      "║ 11║ 12║ 13║ 14║ 15║\n",
      "╠═══╬═══╬═══╬═══╬═══╣\n",
      "║ 16║ 17║ 18║ 19║ 20║\n",
      "╠═══╬═══╬═══╬═══╬═══╣\n",
      "║ 21║ 22║ 23║ 24║ 25║\n",
      "╚═══════════════════╝\n"
     ]
    }
   ],
   "source": [
    "def build_empty_field(field_size):\n",
    "    \"\"\"Initialize the play field - visual only\n",
    "      Parameters: \n",
    "      - field_size - the globally defined size of the field\"\"\"\n",
    "    row_up = \"╔═══\" + \"════\" * (field_size - 2) + \"════╗\" + \"\\n\" \n",
    "    row_inter = \"╠═══\" + \"╬═══\" * (field_size - 2) + \"╬═══╣\" + \"\\n\"\n",
    "    row_bott = \"╚═══\" + \"════\" * (field_size - 2) + \"════╝\"\n",
    "    numbers = [str(n).center(3, ' ') for n in range(1, field_size**2+1)]\n",
    "    numbers = [numbers[i*field_size:(i+1)*field_size] for i in range(field_size)]\n",
    "    rows_w_numbers = [['║'+number for number in row] for row in numbers]\n",
    "    rows_w_numbers = [''.join(row)+'║\\n' for row in rows_w_numbers] \n",
    "\n",
    "    field = row_up \n",
    "    for row_w_numbers in rows_w_numbers:\n",
    "        field += row_w_numbers\n",
    "        field += row_inter\n",
    "    field = field.removesuffix(row_inter) # removing the last one\n",
    "    field += row_bott\n",
    "    return field\n",
    "\n",
    "# Demo\n",
    "field = build_empty_field(field_size)\n",
    "print(field)"
   ]
  },
  {
   "cell_type": "code",
   "execution_count": 125,
   "metadata": {},
   "outputs": [
    {
     "data": {
      "text/plain": [
       "(4, 2)"
      ]
     },
     "execution_count": 125,
     "metadata": {},
     "output_type": "execute_result"
    }
   ],
   "source": [
    "def convert_positions(n, field_size):\n",
    "    \"\"\"Converts cell numbers into the indicies of the \n",
    "    elements in the `field` string to change.\n",
    "\n",
    "    The string will be split into rows and reassembled. The row \n",
    "    where the number goes to should be split into the list of \n",
    "    individual symbols. \n",
    "    Parameters: \n",
    "    - n: user input (the cell number)\n",
    "    - field_size (str) - globally defined field size\"\"\"\n",
    "    \n",
    "    row =  (n-1) // (field_size) # 0 based\n",
    "    col = (n-1) % (field_size)  # 0 based\n",
    "    return(row, col)\n",
    "\n",
    "# Demo\n",
    "row, col = convert_positions(23, field_size)\n",
    "row, col"
   ]
  },
  {
   "cell_type": "code",
   "execution_count": 141,
   "metadata": {},
   "outputs": [],
   "source": [
    "def insert_symbol_into_field(field, symbol, row, col):\n",
    "    _ = field.splitlines()\n",
    "    new_row = _[row*2+1].split('║')\n",
    "    new_row[col+1]  = f' {symbol} '\n",
    "    new_row = '║'.join(new_row)\n",
    "    _[row*2+1] = new_row\n",
    "    # print('\\n'.join(_))\n",
    "    field = _\n",
    "    return field"
   ]
  },
  {
   "cell_type": "code",
   "execution_count": null,
   "metadata": {},
   "outputs": [],
   "source": [
    "def write_field(field, turn_history):\n",
    "    \"\"\"Populates the field (string) with the \n",
    "    Xs and Os from the turn record. \n",
    "    This function is responsible for graphics only!\n",
    "    \n",
    "    Parameters:\n",
    "    - field (str) - the field \n",
    "    - turn_history - the turn log \n",
    "    \"\"\"\n",
    "    for pos_X in user_history[0]:\n",
    "        row, col = convert_positions(pos_X, field_size)\n",
    "        field = insert_symbol_into_field(field, 'X', row, col)\n",
    "    # turn history of \"O\"s is shorter by one every second turn, \n",
    "    # hence can not use `zip`\n",
    "    for pos_O in user_history[1]:\n",
    "        row, col = convert_positions(pos_O, field_size)\n",
    "        field = insert_symbol_into_field(field, 'O', row, col)\n",
    "    return field"
   ]
  },
  {
   "cell_type": "code",
   "execution_count": 142,
   "metadata": {},
   "outputs": [],
   "source": [
    "def init_field(field_size_n, user_history=None):\n",
    "    \"\"\" Initialize the play field - logic only\n",
    "    Parameters:\n",
    "        field_size_n (int): a general play field nxn\n",
    "        user_history (list): list of two user position history:\n",
    "              [[usr1_pos1, usr2_pos2, usr1_pos3], [usr2_pos1, usr2_pos2]]].\n",
    "              Defaults to None.\n",
    "    \"\"\"\n",
    "    field_size = field_size_n\n",
    "    field_pos_label = list(range(1, 1+field_size**2))\n",
    "    if user_history == None:\n",
    "        user_record = [[], []]\n",
    "        available_pos_label = field_pos_label\n",
    "    else:\n",
    "        user_record = user_history\n",
    "        ## check consistence\n",
    "        if len(user_record[0]) != len(set(user_record[0])):\n",
    "               print(\"warning: duplicate elements within user_history[0]\")\n",
    "               exit(0)\n",
    "        if len(user_record[1]) != len(set(user_record[1])):\n",
    "               print(\"warning: duplicate elements within user_history[1]\")\n",
    "               exit(0)\n",
    "        if user_record[0] not in field_pos_label:\n",
    "               print(\"warning: label overflow in user_history[0]\")\n",
    "               exit(0)\n",
    "        if user_record[1] not in field_pos_label:\n",
    "               print(\"warning: label overflow in user_history[1]\")\n",
    "               exit(0)\n",
    "        available_pos_label = list(set(field_pos_label)\n",
    "                                   - set(user_record[0])\n",
    "                                   - set(user_record[1]))\n",
    "    win_line = []\n",
    "    tmp = list(range(field_size))\n",
    "    for i in range(field_size):\n",
    "        win_line.append([1+x+i*field_size for x in tmp])\n",
    "        win_line.append([1+x*field_size+i for x in tmp])\n",
    "    win_line.append([1+x*field_size+x for x in tmp])\n",
    "    win_line.append([(1+x)*field_size-x for x in tmp])\n",
    "    # return user_record, win_line, available_pos_label\n",
    "    return win_line, available_pos_label"
   ]
  },
  {
   "cell_type": "code",
   "execution_count": 15,
   "metadata": {},
   "outputs": [],
   "source": [
    "## global\n",
    "if len(user_record[0]) == len(user_record[1]):\n",
    "    whose_turn_is_it = 1\n",
    "else:\n",
    "    whose_turn_is_it = 0\n",
    "\n",
    "def make_turn(available_pos_label):\n",
    "    # avaiable_pos_label = set(field_pos_label) - set(user_record[0]) \\\n",
    "    #                     - set(user_record[1])\n",
    "    if len(available_pos_label) == 0:\n",
    "          print('warning: no available position to continue game!')\n",
    "          print('game over!')\n",
    "    turn_valid = False\n",
    "    while not turn_valid:\n",
    "        if whose_turn_is_it:\n",
    "        # means it is the first player's turn\n",
    "            turn = int(input(\"Player-1 (X): Please choose one available position label\"))\n",
    "            if turn in available_pos_label:\n",
    "                 turn_valid = True\n",
    "                 user_record[0].append(turn)\n",
    "        else:\n",
    "        # means it is the second player's turn\n",
    "            turn = int(input(\"Player-2 (O): Please choose one available position label\"))\n",
    "            if turn in available_pos_label:\n",
    "                 turn_valid = True\n",
    "                 user_record[1].append(turn)"
   ]
  },
  {
   "cell_type": "code",
   "execution_count": null,
   "metadata": {},
   "outputs": [],
   "source": [
    "## Getting everything together\n",
    "\n",
    "field_size = 5               # NxN, always square field\n",
    "user_record = [[], []]       # list of lists with the turn record\n",
    "win_line = []                # list of lists, win conditions that are still possible\n",
    "field_pos_label = []         # position label for whole play field\n",
    "available_pos_label = []     # position label for empty spot\n",
    "\n",
    "## game starts\n",
    "field = build_empty_field(field_size)\n",
    "user_record, win_line, available_pos_label"
   ]
  },
  {
   "cell_type": "code",
   "execution_count": 16,
   "metadata": {},
   "outputs": [],
   "source": [
    "validate([1,5,9])"
   ]
  },
  {
   "cell_type": "code",
   "execution_count": 4,
   "metadata": {},
   "outputs": [
    {
     "data": {
      "text/plain": [
       "([[], []],\n",
       " [[1, 2, 3, 4],\n",
       "  [1, 5, 9, 13],\n",
       "  [5, 6, 7, 8],\n",
       "  [2, 6, 10, 14],\n",
       "  [9, 10, 11, 12],\n",
       "  [3, 7, 11, 15],\n",
       "  [13, 14, 15, 16],\n",
       "  [4, 8, 12, 16],\n",
       "  [1, 6, 11, 16],\n",
       "  [4, 7, 10, 13]],\n",
       " [1, 2, 3, 4, 5, 6, 7, 8, 9, 10, 11, 12, 13, 14, 15, 16])"
      ]
     },
     "execution_count": 4,
     "metadata": {},
     "output_type": "execute_result"
    }
   ],
   "source": [
    "init_field(4, None)"
   ]
  },
  {
   "cell_type": "markdown",
   "metadata": {},
   "source": [
    "# Legacy"
   ]
  },
  {
   "cell_type": "code",
   "execution_count": 79,
   "metadata": {},
   "outputs": [
    {
     "name": "stdout",
     "output_type": "stream",
     "text": [
      "┌ - - - - - - - - - - - - - - - - - - - ┐\n",
      "|   |   |   |   |   |   |   |   |   |   |\n",
      "| - + - + - + - + - + - + - + - + - + - |\n",
      "|   |   |   |   |   |   |   |   |   |   |\n",
      "| - + - + - + - + - + - + - + - + - + - |\n",
      "|   |   |   |   |   |   |   |   |   |   |\n",
      "| - + - + - + - + - + - + - + - + - + - |\n",
      "|   |   |   |   |   |   |   |   |   |   |\n",
      "| - + - + - + - + - + - + - + - + - + - |\n",
      "|   |   |   |   |   |   |   |   |   |   |\n",
      "| - + - + - + - + - + - + - + - + - + - |\n",
      "|   |   |   |   |   |   |   |   |   |   |\n",
      "| - + - + - + - + - + - + - + - + - + - |\n",
      "|   |   |   |   |   |   |   |   |   |   |\n",
      "| - + - + - + - + - + - + - + - + - + - |\n",
      "|   |   |   |   |   |   |   |   |   |   |\n",
      "| - + - + - + - + - + - + - + - + - + - |\n",
      "|   |   |   |   |   |   |   |   |   |   |\n",
      "| - + - + - + - + - + - + - + - + - + - |\n",
      "|   |   |   |   |   |   |   |   |   |   |\n",
      "└ - - - - - - - - - - - - - - - - - - - ┘\n",
      "\n"
     ]
    }
   ],
   "source": [
    "# display function\n",
    "def build_empty_field_v0(field_size):\n",
    "      \"\"\"Generates a grid of the given size\"\"\"\n",
    "      row_up = \"┌ - \" + \"- - \" * (field_size - 2) + \"- - ┐\" + \"\\n\" \\\n",
    "            + \"|   \" + \"|   \" * (field_size - 2) + \"|   |\" + \"\\n\" \\\n",
    "            + \"| - \" + \"+ - \" * (field_size - 2) + \"+ - |\" + \"\\n\" \n",
    "      row_mid = \\\n",
    "            \"|   \" + \"|   \" * (field_size - 2) + \"|   |\" + \"\\n\" \\\n",
    "            + \"| - \" + \"+ - \" * (field_size - 2) + \"+ - |\" + \"\\n\" \n",
    "      row_bot = \\\n",
    "            \"|   \" + \"|   \" * (field_size - 2) + \"|   |\" + \"\\n\" \\\n",
    "            + \"└ - \" + \"- - \" * (field_size - 2) + \"- - ┘\" + \"\\n\" \n",
    "\n",
    "      field = row_up + row_mid*(field_size-2) + row_bot\n",
    "      return field\n",
    "\n",
    "# Demo\n",
    "field = build_empty_field_v0(field_size)        \n",
    "print(field)"
   ]
  },
  {
   "cell_type": "markdown",
   "metadata": {},
   "source": []
  }
 ],
 "metadata": {
  "kernelspec": {
   "display_name": ".venv",
   "language": "python",
   "name": "python3"
  },
  "language_info": {
   "codemirror_mode": {
    "name": "ipython",
    "version": 3
   },
   "file_extension": ".py",
   "mimetype": "text/x-python",
   "name": "python",
   "nbconvert_exporter": "python",
   "pygments_lexer": "ipython3",
   "version": "3.11.3"
  }
 },
 "nbformat": 4,
 "nbformat_minor": 2
}
