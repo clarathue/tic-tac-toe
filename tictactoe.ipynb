{
 "cells": [
  {
   "cell_type": "code",
   "execution_count": 2,
   "metadata": {},
   "outputs": [],
   "source": [
    "field_size = 5 # 5x5, always square field\n",
    "user_record = [] # list of lists for tracking the turns\n",
    "win_line = [] # list of lists, win conditions that are still possible"
   ]
  },
  {
   "cell_type": "code",
   "execution_count": 7,
   "metadata": {},
   "outputs": [
    {
     "name": "stdout",
     "output_type": "stream",
     "text": [
      "┌  -    -    -  ┐\n",
      "|   |   |   |   |   |\n"
     ]
    }
   ],
   "source": [
    "# display function\n",
    "first_row = '┌' + (field_size - 2) * '  -  ' + '┐'\n",
    "middle_row = '|' + field_size * '   |' \n",
    "# last_row = \n",
    "        \n",
    "print(first_row)\n",
    "print(middle_row)"
   ]
  },
  {
   "cell_type": "code",
   "execution_count": null,
   "metadata": {},
   "outputs": [],
   "source": [
    "\"\"\"\n",
    "┌ - - - - - ┐\n",
    "|   |   |   |\n",
    "|-----------|\n",
    "|   |   |   |\n",
    "|-----------|\n",
    "|   |   |   |\n",
    "└ - - - - - ┘\n",
    "\"\"\""
   ]
  },
  {
   "cell_type": "markdown",
   "metadata": {},
   "source": []
  }
 ],
 "metadata": {
  "kernelspec": {
   "display_name": ".venv",
   "language": "python",
   "name": "python3"
  },
  "language_info": {
   "codemirror_mode": {
    "name": "ipython",
    "version": 3
   },
   "file_extension": ".py",
   "mimetype": "text/x-python",
   "name": "python",
   "nbconvert_exporter": "python",
   "pygments_lexer": "ipython3",
   "version": "3.11.3"
  }
 },
 "nbformat": 4,
 "nbformat_minor": 2
}
